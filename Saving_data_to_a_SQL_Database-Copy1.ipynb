{
 "cells": [
  {
   "cell_type": "code",
   "execution_count": 1,
   "metadata": {
    "collapsed": true,
    "deletable": true,
    "editable": true
   },
   "outputs": [],
   "source": [
    "import sqlite3 \n",
    "import pandas\n",
    "import json \n",
    "import matplotlib.pyplot as mpl"
   ]
  },
  {
   "cell_type": "code",
   "execution_count": 2,
   "metadata": {
    "collapsed": true,
    "deletable": true,
    "editable": true
   },
   "outputs": [],
   "source": [
    "# https://developer.twitter.com/en/docs/tweets/data-dictionary/overview/tweet-object - will makes things easy\n"
   ]
  },
  {
   "cell_type": "code",
   "execution_count": 113,
   "metadata": {
    "collapsed": false,
    "deletable": true,
    "editable": true
   },
   "outputs": [
    {
     "data": {
      "text/plain": [
       "dict"
      ]
     },
     "execution_count": 113,
     "metadata": {},
     "output_type": "execute_result"
    }
   ],
   "source": [
    "#data_file = open(\"C:/Users/santhosh/Desktop/collected data/data_hashtag_HarvestFestival.txt\") # look out for '/'\n",
    "#dataset1 = []\n",
    "#with open(\"C:/Users/santhosh/Desktop/collected data/data_hashtag_HarvestFestival.txt\") as f:\n",
    "#with open(\"C:/Users/santhosh/Desktop/collected data/data_hashtag_HarvestFestival_more_tweets.txt\") as f:\n",
    "#with open(\"C:/Users/santhosh/Desktop/collected data/data_hashtag_LasVegas.txt\") as f:\n",
    "with open(\"C:/Users/santhosh/Desktop/collected data/data_VegasStrong_more_tweets.txt\") as f:\n",
    "    dataset = json.load(f)\n",
    "type (dataset)\n",
    "dsubset =  dataset[1]\n",
    "type(dsubset)"
   ]
  },
  {
   "cell_type": "code",
   "execution_count": 88,
   "metadata": {
    "collapsed": false,
    "deletable": true,
    "editable": true
   },
   "outputs": [
    {
     "name": "stdout",
     "output_type": "stream",
     "text": [
      "dict_keys(['retweeted', 'lang', 'coordinates', 'contributors', 'favorited', 'favorite_count', 'geo', 'possibly_sensitive', 'in_reply_to_status_id', 'in_reply_to_user_id_str', 'id', 'truncated', 'retweeted_status', 'is_quote_status', 'retweet_count', 'in_reply_to_user_id', 'entities', 'metadata', 'text', 'place', 'created_at', 'in_reply_to_status_id_str', 'source', 'in_reply_to_screen_name', 'id_str', 'user'])\n"
     ]
    }
   ],
   "source": [
    "#Now save all these in a database \n",
    "#single_tweet = dataset1.itervalues().next()\n",
    "#columns = list(single_tweet.keys())\n",
    "#print(columns)\n",
    "print(dsubset.keys())"
   ]
  },
  {
   "cell_type": "code",
   "execution_count": 5,
   "metadata": {
    "collapsed": false,
    "deletable": true,
    "editable": true
   },
   "outputs": [],
   "source": [
    "#import ast \n",
    "#data_format = ast.literal_eval(data1)    \n",
    "\n",
    "#type((dataset1))\n",
    "#json_data=(json.dumps(dataset1,indent = 2))"
   ]
  },
  {
   "cell_type": "code",
   "execution_count": 82,
   "metadata": {
    "collapsed": false,
    "deletable": true,
    "editable": true
   },
   "outputs": [
    {
     "name": "stdout",
     "output_type": "stream",
     "text": [
      "{\n",
      "    \"retweeted\": false,\n",
      "    \"lang\": \"en\",\n",
      "    \"coordinates\": null,\n",
      "    \"contributors\": null,\n",
      "    \"favorited\": false,\n",
      "    \"favorite_count\": 0,\n",
      "    \"geo\": null,\n",
      "    \"in_reply_to_status_id\": null,\n",
      "    \"in_reply_to_user_id_str\": null,\n",
      "    \"id\": 917139657007169537,\n",
      "    \"truncated\": false,\n",
      "    \"retweeted_status\": {\n",
      "        \"retweeted\": false,\n",
      "        \"lang\": \"en\",\n",
      "        \"coordinates\": null,\n",
      "        \"contributors\": null,\n",
      "        \"favorited\": false,\n",
      "        \"favorite_count\": 523600,\n",
      "        \"geo\": null,\n",
      "        \"in_reply_to_status_id\": null,\n",
      "        \"in_reply_to_user_id_str\": null,\n",
      "        \"id\": 915075784556953600,\n",
      "        \"truncated\": false,\n",
      "        \"is_quote_status\": false,\n",
      "        \"retweet_count\": 215640,\n",
      "        \"in_reply_to_user_id\": null,\n",
      "        \"entities\": {\n",
      "            \"user_mentions\": [],\n",
      "            \"symbols\": [],\n",
      "            \"urls\": [],\n",
      "            \"hashtags\": [\n",
      "                {\n",
      "                    \"indices\": [\n",
      "                        66,\n",
      "                        75\n",
      "                    ],\n",
      "                    \"text\": \"LasVegas\"\n",
      "                },\n",
      "                {\n",
      "                    \"indices\": [\n",
      "                        84,\n",
      "                        88\n",
      "                    ],\n",
      "                    \"text\": \"USA\"\n",
      "                },\n",
      "                {\n",
      "                    \"indices\": [\n",
      "                        125,\n",
      "                        138\n",
      "                    ],\n",
      "                    \"text\": \"prayforvegas\"\n",
      "                }\n",
      "            ]\n",
      "        },\n",
      "        \"metadata\": {\n",
      "            \"result_type\": \"recent\",\n",
      "            \"iso_language_code\": \"en\"\n",
      "        },\n",
      "        \"text\": \"There are no words that can do justice to this tragedy. BTS loves #LasVegas and our #USA family who are in our hearts today. #prayforvegas\",\n",
      "        \"place\": null,\n",
      "        \"created_at\": \"Tue Oct 03 04:47:22 +0000 2017\",\n",
      "        \"in_reply_to_status_id_str\": null,\n",
      "        \"source\": \"<a href=\\\"http://twitter.com/download/iphone\\\" rel=\\\"nofollow\\\">Twitter for iPhone</a>\",\n",
      "        \"in_reply_to_screen_name\": null,\n",
      "        \"id_str\": \"915075784556953600\",\n",
      "        \"user\": {\n",
      "            \"lang\": \"ko\",\n",
      "            \"profile_text_color\": \"333333\",\n",
      "            \"description\": \"Hi~ we are BTS!\",\n",
      "            \"followers_count\": 8910032,\n",
      "            \"contributors_enabled\": false,\n",
      "            \"profile_image_url_https\": \"https://pbs.twimg.com/profile_images/905808134727286784/nn7m8q1p_normal.jpg\",\n",
      "            \"follow_request_sent\": false,\n",
      "            \"favourites_count\": 60,\n",
      "            \"geo_enabled\": true,\n",
      "            \"name\": \"\\ubc29\\ud0c4\\uc18c\\ub144\\ub2e8\",\n",
      "            \"utc_offset\": 28800,\n",
      "            \"has_extended_profile\": false,\n",
      "            \"default_profile\": false,\n",
      "            \"is_translation_enabled\": false,\n",
      "            \"profile_sidebar_fill_color\": \"EFEFEF\",\n",
      "            \"verified\": true,\n",
      "            \"profile_background_image_url_https\": \"https://abs.twimg.com/images/themes/theme14/bg.gif\",\n",
      "            \"default_profile_image\": false,\n",
      "            \"notifications\": false,\n",
      "            \"profile_background_image_url\": \"http://abs.twimg.com/images/themes/theme14/bg.gif\",\n",
      "            \"id\": 335141638,\n",
      "            \"is_translator\": false,\n",
      "            \"profile_use_background_image\": true,\n",
      "            \"profile_sidebar_border_color\": \"FFFFFF\",\n",
      "            \"profile_banner_url\": \"https://pbs.twimg.com/profile_banners/335141638/1504796451\",\n",
      "            \"friends_count\": 86,\n",
      "            \"following\": false,\n",
      "            \"url\": \"https://t.co/BP579N8Xkk\",\n",
      "            \"profile_link_color\": \"FF0000\",\n",
      "            \"profile_image_url\": \"http://pbs.twimg.com/profile_images/905808134727286784/nn7m8q1p_normal.jpg\",\n",
      "            \"location\": \"\",\n",
      "            \"entities\": {\n",
      "                \"description\": {\n",
      "                    \"urls\": []\n",
      "                },\n",
      "                \"url\": {\n",
      "                    \"urls\": [\n",
      "                        {\n",
      "                            \"expanded_url\": \"http://btsblog.ibighit.com\",\n",
      "                            \"indices\": [\n",
      "                                0,\n",
      "                                23\n",
      "                            ],\n",
      "                            \"display_url\": \"btsblog.ibighit.com\",\n",
      "                            \"url\": \"https://t.co/BP579N8Xkk\"\n",
      "                        }\n",
      "                    ]\n",
      "                }\n",
      "            },\n",
      "            \"screen_name\": \"BTS_twt\",\n",
      "            \"translator_type\": \"regular\",\n",
      "            \"profile_background_tile\": false,\n",
      "            \"protected\": false,\n",
      "            \"time_zone\": \"Irkutsk\",\n",
      "            \"listed_count\": 20685,\n",
      "            \"profile_background_color\": \"FFFFFF\",\n",
      "            \"id_str\": \"335141638\",\n",
      "            \"statuses_count\": 10178,\n",
      "            \"created_at\": \"Thu Jul 14 06:32:56 +0000 2011\"\n",
      "        }\n",
      "    },\n",
      "    \"is_quote_status\": false,\n",
      "    \"retweet_count\": 215640,\n",
      "    \"in_reply_to_user_id\": null,\n",
      "    \"entities\": {\n",
      "        \"user_mentions\": [\n",
      "            {\n",
      "                \"indices\": [\n",
      "                    3,\n",
      "                    11\n",
      "                ],\n",
      "                \"screen_name\": \"BTS_twt\",\n",
      "                \"id_str\": \"335141638\",\n",
      "                \"id\": 335141638,\n",
      "                \"name\": \"\\ubc29\\ud0c4\\uc18c\\ub144\\ub2e8\"\n",
      "            }\n",
      "        ],\n",
      "        \"symbols\": [],\n",
      "        \"urls\": [],\n",
      "        \"hashtags\": [\n",
      "            {\n",
      "                \"indices\": [\n",
      "                    79,\n",
      "                    88\n",
      "                ],\n",
      "                \"text\": \"LasVegas\"\n",
      "            },\n",
      "            {\n",
      "                \"indices\": [\n",
      "                    97,\n",
      "                    101\n",
      "                ],\n",
      "                \"text\": \"USA\"\n",
      "            }\n",
      "        ]\n",
      "    },\n",
      "    \"metadata\": {\n",
      "        \"result_type\": \"recent\",\n",
      "        \"iso_language_code\": \"en\"\n",
      "    },\n",
      "    \"text\": \"RT @BTS_twt: There are no words that can do justice to this tragedy. BTS loves #LasVegas and our #USA family who are in our hearts today. #\\u2026\",\n",
      "    \"place\": null,\n",
      "    \"created_at\": \"Sun Oct 08 21:28:28 +0000 2017\",\n",
      "    \"in_reply_to_status_id_str\": null,\n",
      "    \"source\": \"<a href=\\\"http://twitter.com/download/iphone\\\" rel=\\\"nofollow\\\">Twitter for iPhone</a>\",\n",
      "    \"in_reply_to_screen_name\": null,\n",
      "    \"id_str\": \"917139657007169537\",\n",
      "    \"user\": {\n",
      "        \"lang\": \"es\",\n",
      "        \"profile_text_color\": \"333333\",\n",
      "        \"description\": \"\\uc2dc\\uad6d \\ud83c\\udf38 \\uad6d\\ubbfc || ARMY & EXO-L || kookmin/jikook hard shipper || \\ud83c\\udf34shimmie shimmie ko ko bop I think I like it\\ud83c\\udf34 || butterfly[\\ud83e\\udd8b] || xiumin's hard stan since debut\\ud83c\\udf43\",\n",
      "        \"followers_count\": 440,\n",
      "        \"contributors_enabled\": false,\n",
      "        \"profile_image_url_https\": \"https://pbs.twimg.com/profile_images/913985965496193024/WB2pXc_O_normal.jpg\",\n",
      "        \"follow_request_sent\": false,\n",
      "        \"favourites_count\": 5716,\n",
      "        \"geo_enabled\": false,\n",
      "        \"name\": \"katie;\\ud83c\\udf53\",\n",
      "        \"utc_offset\": -25200,\n",
      "        \"has_extended_profile\": true,\n",
      "        \"default_profile\": false,\n",
      "        \"is_translation_enabled\": false,\n",
      "        \"profile_sidebar_fill_color\": \"DDEEF6\",\n",
      "        \"verified\": false,\n",
      "        \"profile_background_image_url_https\": \"https://pbs.twimg.com/profile_background_images/378800000005295544/85172fac9fd7500fab0a350a98f78cff.png\",\n",
      "        \"default_profile_image\": false,\n",
      "        \"notifications\": false,\n",
      "        \"profile_background_image_url\": \"http://pbs.twimg.com/profile_background_images/378800000005295544/85172fac9fd7500fab0a350a98f78cff.png\",\n",
      "        \"id\": 979786646,\n",
      "        \"is_translator\": false,\n",
      "        \"profile_use_background_image\": true,\n",
      "        \"profile_sidebar_border_color\": \"FFFFFF\",\n",
      "        \"profile_banner_url\": \"https://pbs.twimg.com/profile_banners/979786646/1506747766\",\n",
      "        \"friends_count\": 345,\n",
      "        \"following\": false,\n",
      "        \"url\": \"https://t.co/zDZq66fkdR\",\n",
      "        \"profile_link_color\": \"663355\",\n",
      "        \"profile_image_url\": \"http://pbs.twimg.com/profile_images/913985965496193024/WB2pXc_O_normal.jpg\",\n",
      "        \"location\": \"Mexico.\\ud83c\\udf2e\\ud83c\\uddf2\\ud83c\\uddfd\",\n",
      "        \"entities\": {\n",
      "            \"description\": {\n",
      "                \"urls\": []\n",
      "            },\n",
      "            \"url\": {\n",
      "                \"urls\": [\n",
      "                    {\n",
      "                        \"expanded_url\": \"https://www.wattpad.com/user/-alixnmxchi\",\n",
      "                        \"indices\": [\n",
      "                            0,\n",
      "                            23\n",
      "                        ],\n",
      "                        \"display_url\": \"wattpad.com/user/-alixnmxc\\u2026\",\n",
      "                        \"url\": \"https://t.co/zDZq66fkdR\"\n",
      "                    }\n",
      "                ]\n",
      "            }\n",
      "        },\n",
      "        \"screen_name\": \"k00kminfeels\",\n",
      "        \"translator_type\": \"none\",\n",
      "        \"profile_background_tile\": false,\n",
      "        \"protected\": false,\n",
      "        \"time_zone\": \"Pacific Time (US & Canada)\",\n",
      "        \"listed_count\": 0,\n",
      "        \"profile_background_color\": \"C0DEED\",\n",
      "        \"id_str\": \"979786646\",\n",
      "        \"statuses_count\": 8567,\n",
      "        \"created_at\": \"Fri Nov 30 05:05:06 +0000 2012\"\n",
      "    }\n",
      "}\n"
     ]
    }
   ],
   "source": [
    "#type(json_data)\n",
    "print (json.dumps(dsubset, indent = 4))"
   ]
  },
  {
   "cell_type": "code",
   "execution_count": 114,
   "metadata": {
    "collapsed": false,
    "deletable": true,
    "editable": true
   },
   "outputs": [],
   "source": [
    "def create_a_db():\n",
    "    db_con = sqlite3.connect('Tweets.db') # creating and connecting for our database file \n",
    "    c = db_con.cursor() # this will be our  \n",
    "    #c.execute('CREATE TABLE IF NOT EXISTS TwitterData (in_reply_to_status_id_str BLOB, text TEXT, coordinates BLOB, user_name TEXT, user_followers_count INTEGER, user_lang TEXT, user_default_profile TEXT, user_location TEXT, user_time_zone TEXT, user_profile_text_color TEXT, user_statuses_count INTEGER, user_protected TEXT, user_friends_count INTEGER, user_id INTEGER, user_description TEXT, user_verified TEXT, user_listed_count INTEGER, user_favourites_count INTEGER, user_created_at TEXT, user_utc_offset INTEGER, user_geo_enabled TEXT, retweet_count INTEGER, lang TEXT, geo BLOB, is_quote_status BLOB, in_reply_to_user_id BLOB, id_str TEXT, in_reply_to_user_id_str BLOB, in_reply_to_status_id BLOB, in_reply_to_screen_name BLOB, truncated BLOB, favorited BLOB, id INTEGER, source TEXT, retweeted BLOB, created_at TEXT, favorite_count INTEGER, contributors BLOB,  hashtags TEXT, urls TEXT, user_mentions TEXT, media TEXT, symbols TEXT, polls TEXT)')\n",
    "    #c.execute('CREATE TABLE IF NOT EXISTS TweetsDataTable (id_n INTEGER PRIMARY KEY ASC, user_id INTEGER, user_name TEXT, user_location TEXT, text TEXT, hashtags TEXT, urls TEXT, user_mentions TEXT, symbols TEXT, retweeted TEXT, retweet_count INTEGER, in_reply_to_user_id INTEGER, in_reply_to_status_id INTEGER, in_reply_to_screen_name TEXT)')\n",
    "    c.execute('CREATE TABLE IF NOT EXISTS TweetsDataTable (id_n INTEGER PRIMARY KEY ASC, created_at TEXT, user_id INTEGER, user_name TEXT, user_screen_name TEXT, user_location TEXT, text TEXT, hashtags TEXT, expanded_urls TEXT, user_mentions_screen_name TEXT, user_mentions_user_ids TEXT, symbols TEXT, retweeted TEXT, retweet_count INTEGER, in_reply_to_user_id INTEGER, in_reply_to_status_id INTEGER, in_reply_to_screen_name TEXT)')\n",
    "\n",
    "\n",
    "def make_a_db():\n",
    "    db_con = sqlite3.connect('Tweets.db') # creating and connecting for our database file \n",
    "    c = db_con.cursor() # this will be our \n",
    "        \n",
    "    for i in range(len(dataset)):\n",
    "        #in_reply_to_status_id_str = str(dataset[i]['in_reply_to_status_id_str'])\n",
    "        text = str(dataset[i]['text'])\n",
    "        #coordinates = str(dataset[i]['coordinates'])\n",
    "        retweet_count = dataset[i]['retweet_count']\n",
    "        #lang = str(dataset[i]['lang'])\n",
    "        #entities = dataset[i]['entities']\n",
    "        #user = dataset[i]['user']\n",
    "        \n",
    "        user_name = dataset[i]['user']['name']\n",
    "        user_screen_name = dataset[i]['user']['screen_name']\n",
    "        #user_translator_type = dataset[i]['user']['translator_type']\n",
    "        #user_profile_background_tile = dataset[i]['user']['profile_background_tile']\n",
    "        #user_profile_link_color = dataset[i]['user']['profile_link_color']\n",
    "        #user_id_str = dataset[i]['user']['id_str']\n",
    "        #user_profile_background_image_url_https = dataset[i]['user']['profile_background_image_url_https']\n",
    "        #user_followers_count = dataset[i]['user']['followers_count'] \n",
    "        #user_follow_request_sent = dataset[i]['user']['follow_request_sent']\n",
    "        #user_lang = str(dataset[i]['user']['lang'])\n",
    "        #user_profile_sidebar_fill_color = dataset[i]['user']['profile_sidebar_fill_color'] \n",
    "        #user_default_profile = str(dataset[i]['user']['default_profile'])\n",
    "        user_location = str(dataset[i]['user']['location'])\n",
    "        #user_profile_use_background_image = dataset[i]['user']['profile_use_background_image'] \n",
    "        #user_time_zone = str(dataset[i]['user']['time_zone'])\n",
    "        #user_profile_text_color = str(dataset[i]['user']['profile_text_color'])\n",
    "        #user_profile_background_image_url = dataset[i]['user']['profile_background_image_url']\n",
    "        #user_statuses_count = dataset[i]['user']['statuses_count']\n",
    "        #user_protected = str(dataset[i]['user']['protected'])\n",
    "        #user_default_profile_image = dataset[i]['user']['default_profile_image']\n",
    "        #user_friends_count = dataset[i]['user']['friends_count']\n",
    "        user_id = dataset[i]['user']['id']\n",
    "        #user_description = str(dataset[i]['user']['description'])\n",
    "        #user_url = dataset[i]['user']['url']\n",
    "        #user_verified =  str(dataset[i]['user']['verified'])\n",
    "        #user_listed_count = dataset[i]['user']['listed_count']\n",
    "        #user_favourites_count = dataser[i]['user']['user_favourities_count']\n",
    "        #user_created_at = str(dataser[i]['user']['created_at'])\n",
    "        #user_utc_offset = str(dataser[i]['user']['utc_offset'])\n",
    "        #user_geo_enabled = str(dataser[i]['user']['geo_enabled'])\n",
    "        #user_profile_image_url_https = dataser[i]['user']['profile_image_url_https']\n",
    "        \n",
    "        \n",
    "        # for i in  user['entities']['url']\n",
    "        #     user_entities_urls = user['entities']['url']\n",
    "        \n",
    "        #     user_entities_urls user['entities']['url']\n",
    "        \n",
    "        \n",
    "        #metadata = dataset[i]['metadata']\n",
    "        #geo = str(dataset[i]['geo'])\n",
    "        #is_quote_status = str(dataset[i]['is_quote_status'])\n",
    "        in_reply_to_user_id = dataset[i]['in_reply_to_user_id']\n",
    "        #id_str = dataset[i]['id_str']\n",
    "        #in_reply_to_user_id_str = str(dataset[i]['in_reply_to_user_id_str'])\n",
    "        in_reply_to_status_id = dataset[i]['in_reply_to_status_id']\n",
    "        in_reply_to_screen_name = str(dataset[i]['in_reply_to_screen_name'])\n",
    "        #truncated = str(dataset[i]['truncated'])\n",
    "        #favorited = str(dataset[i]['favorited'])\n",
    "        id_n = dataset[i]['id']\n",
    "        #source = str(dataset[i]['source'])\n",
    "        retweeted = str(dataset[i]['retweeted'])\n",
    "        created_at = dataset[i]['created_at']\n",
    "        #favorite_count = dataset[i]['favorite_count']\n",
    "        #contributors = str(dataset[i]['contributors'])\n",
    "        #place = dataset[i]['place']\n",
    "        retweet_count = dataset[i]['retweet_count']\n",
    "        hashtags = ','.join([hashtag['text'] \n",
    "                    for hashtag in dataset[i]['entities']['hashtags']])\n",
    "        expanded_urls = ','.join([urls_included['expanded_url'] \n",
    "                                  for urls_included in dataset[i]['entities']['urls']])\n",
    "        user_mentions_screen_name = ','.join([user_mentions['screen_name'] \n",
    "                                              for user_mentions in dataset[i]['entities']['user_mentions']])\n",
    "        user_mentions_user_ids = ','.join(str(x) for x in [user_mentions['id'] \n",
    "                                                           for user_mentions in dataset[i]['entities']['user_mentions']])\n",
    "        #media = str(dataset[i]['entities']['media'])\n",
    "        symbols = str(dataset[i]['entities']['symbols'])\n",
    "        #polls = str(dataset[i]['entities']['polls'])\n",
    "        c.execute('''INSERT OR IGNORE INTO TweetsDataTable(id_n, created_at, user_id, user_name, user_screen_name, user_location, text, hashtags, expanded_urls, user_mentions_screen_name, user_mentions_user_ids, symbols, retweeted, retweet_count, in_reply_to_user_id, in_reply_to_status_id, in_reply_to_screen_name) Values(?,?,?,?,?,?,?,?,?,?,?,?,?,?,?,?,?)''',(id_n, created_at, user_id, user_name, user_screen_name, user_location, text, hashtags, expanded_urls, user_mentions_screen_name, user_mentions_user_ids, symbols, retweeted, retweet_count, in_reply_to_user_id, in_reply_to_status_id, in_reply_to_screen_name))\n",
    "        db_con.commit()\n",
    "    c.close()\n",
    "    db_con.close()\n",
    "        \n",
    "        \n",
    "        \n",
    "#create_a_db()\n",
    "make_a_db()\n",
    "        \n",
    "    "
   ]
  },
  {
   "cell_type": "code",
   "execution_count": 94,
   "metadata": {
    "collapsed": false,
    "deletable": true,
    "editable": true
   },
   "outputs": [
    {
     "name": "stdout",
     "output_type": "stream",
     "text": [
      "2\n"
     ]
    },
    {
     "data": {
      "text/plain": [
       "<function print>"
      ]
     },
     "execution_count": 94,
     "metadata": {},
     "output_type": "execute_result"
    }
   ],
   "source": [
    "#for i in  dataset[1]['user']['entities']['url']['urls']:\n",
    "print(len(dataset[3]['user']['entities']))\n",
    "#print(user['entities']['url']['urls'][0]['expanded_url'])\n",
    "#print(user['entities']['url']['urls'][0]['display_url'])\n",
    "#print(user['entities']['url']['urls'][0]['url'])\n",
    "#print(user['entities']['url']['urls'][0]['indices'])\n",
    "print"
   ]
  },
  {
   "cell_type": "code",
   "execution_count": 7,
   "metadata": {
    "collapsed": false,
    "deletable": true,
    "editable": true
   },
   "outputs": [
    {
     "name": "stdout",
     "output_type": "stream",
     "text": [
      "Wonderful #HarvestFestival thinking about mustard seeds and their impact when God gets involved. Great to welcome Caroline from the Diocese\n"
     ]
    }
   ],
   "source": [
    "len(dataset)\n",
    "i = 1\n",
    "in_reply_to_status_id_str = dataset[i]['in_reply_to_status_id_str']\n",
    "text = dataset[i]['text']\n",
    "coordinates = dataset[i]['coordinates']\n",
    "retweet_count = dataset[i]['retweet_count']\n",
    "lang =dataset[i]['lang']\n",
    "entities = dataset[i]['entities']\n",
    "user = dataset[i]['user']\n",
    "metadata = dataset[i]['metadata']\n",
    "geo = dataset[i]['geo']\n",
    "is_quote_status = dataset[i]['is_quote_status']\n",
    "in_reply_to_user_id = dataset[i]['in_reply_to_user_id']\n",
    "id_str = dataset[i]['id_str']\n",
    "in_reply_to_user_id_str = dataset[i]['in_reply_to_user_id_str']\n",
    "in_reply_to_status_id = dataset[i]['in_reply_to_status_id']\n",
    "in_reply_to_screen_name = dataset[i]['in_reply_to_screen_name']\n",
    "truncated = dataset[i]['truncated']\n",
    "favorited = dataset[i]['favorited']\n",
    "id_n = dataset[i]['id']\n",
    "source = dataset[i]['source']\n",
    "retweeted = dataset[i]['retweeted']\n",
    "created_at = dataset[i]['created_at']\n",
    "favorite_count = dataset[i]['favorite_count']\n",
    "contributors = dataset[i]['contributors']\n",
    "place = dataset[i]['place']\n",
    "print(text)"
   ]
  },
  {
   "cell_type": "code",
   "execution_count": 48,
   "metadata": {
    "collapsed": false,
    "deletable": true,
    "editable": true
   },
   "outputs": [
    {
     "name": "stdout",
     "output_type": "stream",
     "text": [
      "sonomacounty,ワインのある暮らし,ワイン好き,harvestfestival\n"
     ]
    }
   ],
   "source": [
    "h = ','.join([hashtag['text']\n",
    "     for hashtag in dataset[4]['entities']['hashtags']])\n",
    "print((h))"
   ]
  },
  {
   "cell_type": "code",
   "execution_count": 14,
   "metadata": {
    "collapsed": false,
    "deletable": true,
    "editable": true
   },
   "outputs": [
    {
     "data": {
      "text/plain": [
       "str"
      ]
     },
     "execution_count": 14,
     "metadata": {},
     "output_type": "execute_result"
    }
   ],
   "source": [
    "type(str(dataset[1]))"
   ]
  },
  {
   "cell_type": "code",
   "execution_count": 26,
   "metadata": {
    "collapsed": false,
    "deletable": true,
    "editable": true
   },
   "outputs": [
    {
     "name": "stdout",
     "output_type": "stream",
     "text": [
      "null\n"
     ]
    }
   ],
   "source": [
    "print (json.dumps(dataset[1]['coordinates'], indent = 4))"
   ]
  },
  {
   "cell_type": "code",
   "execution_count": 62,
   "metadata": {
    "collapsed": false,
    "deletable": true,
    "editable": true
   },
   "outputs": [
    {
     "name": "stdout",
     "output_type": "stream",
     "text": [
      "356863756\n"
     ]
    }
   ],
   "source": [
    "print(','.join(str(x) for x in [user_mentions['id']\n",
    "                for user_mentions in dataset[2]['entities']['user_mentions']]))\n"
   ]
  },
  {
   "cell_type": "code",
   "execution_count": 73,
   "metadata": {
    "collapsed": false
   },
   "outputs": [
    {
     "name": "stdout",
     "output_type": "stream",
     "text": [
      "https://www.instagram.com/p/BZ_xLujl59N/\n"
     ]
    }
   ],
   "source": [
    "print(','.join([urls_included['expanded_url'] \n",
    "                for urls_included in dataset[6]['entities']['urls']]))"
   ]
  },
  {
   "cell_type": "code",
   "execution_count": null,
   "metadata": {
    "collapsed": true
   },
   "outputs": [],
   "source": []
  }
 ],
 "metadata": {
  "kernelspec": {
   "display_name": "Python 3",
   "language": "python",
   "name": "python3"
  },
  "language_info": {
   "codemirror_mode": {
    "name": "ipython",
    "version": 3
   },
   "file_extension": ".py",
   "mimetype": "text/x-python",
   "name": "python",
   "nbconvert_exporter": "python",
   "pygments_lexer": "ipython3",
   "version": "3.5.2"
  }
 },
 "nbformat": 4,
 "nbformat_minor": 2
}
